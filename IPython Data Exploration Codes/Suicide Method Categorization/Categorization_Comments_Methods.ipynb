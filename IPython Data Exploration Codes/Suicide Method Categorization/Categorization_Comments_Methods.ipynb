{
 "cells": [
  {
   "cell_type": "markdown",
   "metadata": {},
   "source": [
    "## Applying Machine Learning to Annotate Comments based on Methods used to commit Suicide"
   ]
  },
  {
   "cell_type": "markdown",
   "metadata": {},
   "source": [
    "### Importing Required Packages"
   ]
  },
  {
   "cell_type": "code",
   "execution_count": 1,
   "metadata": {
    "collapsed": true
   },
   "outputs": [],
   "source": [
    "import pandas as pd\n",
    "import numpy as np\n",
    "import csv\n",
    "import sys\n",
    "\n",
    "from sklearn.externals import joblib\n",
    "from sklearn.feature_extraction.text import CountVectorizer\n",
    "from sklearn.feature_extraction.text import TfidfTransformer\n",
    "from sklearn.multiclass import OneVsRestClassifier\n",
    "from sklearn import preprocessing\n",
    "from sklearn.pipeline import Pipeline\n",
    "\n",
    "from sklearn.model_selection import train_test_split\n",
    "from sklearn.model_selection import StratifiedShuffleSplit\n",
    "from sklearn.pipeline import make_pipeline\n",
    "from sklearn.linear_model import SGDClassifier\n",
    "from sklearn.svm import LinearSVC\n",
    "from sklearn.svm import SVC\n",
    "from sklearn.linear_model import LogisticRegression\n",
    "from sklearn.linear_model import Perceptron\n",
    " \n",
    "from sklearn.model_selection import GridSearchCV\n",
    "from pprint import pprint\n",
    "from time import time\n",
    "    \n",
    "from sklearn.metrics import f1_score\n",
    "from sklearn.metrics import accuracy_score\n",
    "from sklearn.metrics import classification_report\n",
    " \n",
    "from sklearn.metrics import precision_recall_curve\n",
    "from sklearn.metrics import average_precision_score\n",
    "import matplotlib.pyplot as plt\n"
   ]
  },
  {
   "cell_type": "markdown",
   "metadata": {},
   "source": [
    "### Getting the Training data and the annotations from the CSV File and Loading them in reqd. format"
   ]
  },
  {
   "cell_type": "code",
   "execution_count": 2,
   "metadata": {
    "collapsed": true
   },
   "outputs": [],
   "source": [
    "csvfile = open('C:/Users/AshwinAmbal/Desktop/Intern_Final/Resources/FAnnotations.csv', 'r', encoding='utf8')\n",
    "reader = csv.reader(csvfile, delimiter='|') \n",
    "train_data = [row[0] for row in reader]  #Getting Comments from CSV\n",
    "csvfile.close()\n",
    "#len(train_data)\n",
    "\n",
    "annotations = list()\n",
    "final_annotations = list()\n",
    "csvfile = open('C:/Users/AshwinAmbal/Desktop/Intern_Final/Resources/FAnnotations.csv', 'r', encoding='utf8')\n",
    "reader = csv.reader(csvfile, delimiter='|')\n",
    "for row in reader:\n",
    "    annotations = [row[i] for i in range(len(row)) if i > 0]\n",
    "    final_annotations.append(annotations) #Getting Annotations from CSV\n",
    "csvfile.close()\n",
    "#len(final_annotations)\n",
    "\n",
    "#Load data from arrays\n",
    "X_train = np.array(train_data) #Loading Comments\n",
    "l_train = final_annotations #Loading Annotations\n"
   ]
  },
  {
   "cell_type": "markdown",
   "metadata": {},
   "source": [
    "### Implementing OneVSRest Classifier with different estimators and comparing the relevant Scores\n",
    "\n",
    "### We use a pipeline of Count Vectorizer, TfIdf Transformer and lastly the Classifier"
   ]
  },
  {
   "cell_type": "code",
   "execution_count": 3,
   "metadata": {},
   "outputs": [
    {
     "data": {
      "text/plain": [
       "Pipeline(steps=[('vect', CountVectorizer(analyzer='word', binary=False, decode_error='strict',\n",
       "        dtype=<class 'numpy.int64'>, encoding='utf-8', input='content',\n",
       "        lowercase=True, max_df=0.5, max_features=None, min_df=1,\n",
       "        ngram_range=(1, 1), preprocessor=None, stop_words=None,\n",
       "        strip...lti_class='ovr', penalty='l2', random_state=None, tol=0.0001,\n",
       "     verbose=0),\n",
       "          n_jobs=1))])"
      ]
     },
     "execution_count": 3,
     "metadata": {},
     "output_type": "execute_result"
    }
   ],
   "source": [
    "# Run classifier\n",
    "#stop_words = stopwords.words('english')\n",
    "#countvect = CountVectorizer()\n",
    "\"\"\"ovr__estimator__alpha: 1e-06\n",
    "\tovr__estimator__n_iter: 10\n",
    "\tovr__estimator__penalty: 'l2'\n",
    "\ttfidf__norm: 'l1'\n",
    "\ttfidf__use_idf: True\n",
    "\tvect__max_df: 0.75\n",
    "\tvect__max_features: 10000\n",
    "\tvect__ngram_range: (1, 1)\n",
    "classifier=Pipeline([('vect',CountVectorizer(max_df= 0.75, max_features= 10000, ngram_range= (1, 1))),\n",
    "                     ('tfidf',TfidfTransformer()),\n",
    "                     ('ovr',OneVsRestClassifier(SGDClassifier(alpha= 0.000001,penalty= 'l2',n_iter= 10, loss='modified_huber'))),\n",
    "                    ])\"\"\" #accuracy: 0.41-0.47 (varying), Avg Precision: 0.68, Recall: 0.51, F1 Score: 0.53, Support: 268\n",
    "#====> Equivalent to :\n",
    "\"\"\"ovr__estimator__C: 100\n",
    "\tvect__max_df: 0.5\n",
    "\tvect__ngram_range: (1, 1)\"\"\"\n",
    "classifier=Pipeline([('vect',CountVectorizer(max_df= 0.5, ngram_range= (1,1))),\n",
    "                     ('tfidf',TfidfTransformer()),\n",
    "                     ('ovr',OneVsRestClassifier(LinearSVC(multi_class= 'ovr',C= 100))),\n",
    "                    ]) #accuracy: 0.45-0.46 (consistent), Avg Precision: 0.71, Recall: 0.48, F1 Score: 0.53, Support: 268\n",
    "#====> Equivalent to :\n",
    "\"\"\"classif__estimator__C: 1000\n",
    "\tclassif__estimator__solver: 'sag'\n",
    "\tvect__max_df: 1.0\n",
    "\tvect__ngram_range: (1, 1)\n",
    "classifier=Pipeline([('vect',CountVectorizer(max_df= 1, ngram_range= (1,1))),\n",
    "                     ('tfidf',TfidfTransformer()),\n",
    "                     ('classif',OneVsRestClassifier(LogisticRegression(C= 1000, solver= 'sag',max_iter= 10000))),\n",
    "                    ])\"\"\" #accuracy: 0.31, Avg Precision: 0.35, Recall: 0.31, F1 Score: 0.30, Support: 268\n",
    "#====> Equivalent to :\n",
    "\"\"\"cla__estimator__alpha: 1e-06\n",
    "\tcla__estimator__n_iter: 10\n",
    "\tcla__estimator__penalty: 'l2'\n",
    "\tvect__max_df: 0.5\n",
    "\tvect__ngram_range: (1, 1)\n",
    "classifier=Pipeline([('vect',CountVectorizer(max_df= 0.75, max_features= 10000, ngram_range= (1, 1))),\n",
    "                     ('tfidf',TfidfTransformer()),\n",
    "                     ('cla',OneVsRestClassifier(Perceptron(alpha= 0.000001,penalty= 'l2',n_iter= 10))),\n",
    "                    ]) \"\"\" #accuracy: 0.44-0.45, Avg Precision: 0.59, Recall: 0.52, F1 Score: 0.53, Support: 268\n",
    "#====> Equivalent to :\n",
    "\"\"\"class__estimator__C: 0.1\n",
    "\tclass__estimator__decision_function_shape: 'ovo'\n",
    "\tclass__estimator__kernel: 'linear'\n",
    "\tvect__max_df: 0.5\n",
    "\tvect__ngram_range: (1, 2)\"\"\"\n",
    "\"\"\"classifier=Pipeline([('vect',CountVectorizer(max_df= 0.5, ngram_range= (1,2))),\n",
    "                     ('tfidf',TfidfTransformer()),\n",
    "                     ('class',OneVsRestClassifier(SVC(C= 0.1, decision_function_shape= 'ovo', kernel= 'linear'))),\n",
    "                    ])\"\"\" #accuracy: 0.38, Avg Precision: 0.21, Recall: 0.40, F1 Score: 0.28, Support: 268\n",
    "classifier "
   ]
  },
  {
   "cell_type": "markdown",
   "metadata": {},
   "source": [
    "### Splitting the training data into train and test data to perform cross validation and fitting it with the classifier"
   ]
  },
  {
   "cell_type": "code",
   "execution_count": 12,
   "metadata": {},
   "outputs": [
    {
     "name": "stdout",
     "output_type": "stream",
     "text": [
      "Successfully generated the classfier and binarizer\n"
     ]
    }
   ],
   "source": [
    "#random_state = np.random.RandomState(None)\n",
    "# Split into training and test\n",
    "validation_size = .3\n",
    "\n",
    "X_train = np.array(train_data)\n",
    "l_train = final_annotations\n",
    "lb = preprocessing.MultiLabelBinarizer()\n",
    "Y = lb.fit_transform(l_train)\n",
    "\n",
    "X_train, X_test, y_train, y_test = train_test_split(X_train, l_train, test_size=validation_size, random_state=0, stratify = Y)\n",
    "\n",
    "# Binarize the output classes\n",
    "Y = lb.fit_transform(y_train)\n",
    "Y_test=lb.transform(y_test)\n",
    "\n",
    "classifier.fit(X_train, Y)\n",
    " \n",
    "\n",
    "print (\"Successfully generated the classfier and binarizer\")"
   ]
  },
  {
   "cell_type": "markdown",
   "metadata": {},
   "source": [
    "### Code to save the classifier locally and to Load it again"
   ]
  },
  {
   "cell_type": "code",
   "execution_count": 5,
   "metadata": {},
   "outputs": [
    {
     "data": {
      "text/plain": [
       "\"\\n#csvfile = open('C://Users//AshwinAmbal//Documents/Test_Data.csv', 'r', encoding='utf8')\\n#reader = csv.reader(csvfile, delimiter='|')  #Use this to test the entire test dataset\\nfor row in reader:\\n    tweettest = row[0]\\n    X_predict = np.array(tweettest)\\nX_predict\\n\""
      ]
     },
     "execution_count": 5,
     "metadata": {},
     "output_type": "execute_result"
    }
   ],
   "source": [
    "# save the classifier\n",
    "#_ = joblib.dump(classifier, 'E:\\Postdoc\\ProjectsOngoing\\Python\\WorkSmear4Smear\\model_smear.pkl', compress=9)\n",
    "#_ = joblib.dump(lb, 'E:\\Postdoc\\ProjectsOngoing\\Python\\WorkSmear4Smear\\model_smear_binerizer.pkl', compress=9)\n",
    " \n",
    "# load it again\n",
    "#classifier = joblib.load('E:\\Postdoc\\ProjectsOngoing\\Python\\WorkSmear4Smear\\model_smear.pkl')\n",
    "#lb = joblib.load('E:\\Postdoc\\ProjectsOngoing\\Python\\WorkSmear4Smear\\model_smear_binerizer.pkl')\"\"\"\n",
    "\"\"\"\n",
    "#csvfile = open('C://Users//AshwinAmbal//Documents/Test_Data.csv', 'r', encoding='utf8')\n",
    "#reader = csv.reader(csvfile, delimiter='|')  #Use this to test the entire test dataset\n",
    "for row in reader:\n",
    "    tweettest = row[0]\n",
    "    X_predict = np.array(tweettest)\n",
    "X_predict\n",
    "\"\"\"  "
   ]
  },
  {
   "cell_type": "markdown",
   "metadata": {},
   "source": [
    "### Code to get all parameters of pipeline"
   ]
  },
  {
   "cell_type": "code",
   "execution_count": 9,
   "metadata": {},
   "outputs": [],
   "source": [
    "#sorted(classifier.get_params().keys())"
   ]
  },
  {
   "cell_type": "code",
   "execution_count": 10,
   "metadata": {},
   "outputs": [],
   "source": [
    "#OneVsRestClassifier(LinearSVC()).get_params() #Classifier Specific Parameters"
   ]
  },
  {
   "cell_type": "markdown",
   "metadata": {},
   "source": [
    "### Performing Grid SearchCV to tune the classifier to get the best data specific parameters"
   ]
  },
  {
   "cell_type": "code",
   "execution_count": 66,
   "metadata": {
    "collapsed": true
   },
   "outputs": [
    {
     "name": "stdout",
     "output_type": "stream",
     "text": [
      "Performing grid search...\n",
      "pipeline: ['vect', 'tfidf', 'class']\n",
      "parameters:\n",
      "{'class__estimator__C': (0.1, 1, 10, 100, 1000),\n",
      " 'class__estimator__decision_function_shape': ('ovo', 'ovr'),\n",
      " 'class__estimator__kernel': ('linear', 'poly', 'rbf', 'sigmoid'),\n",
      " 'vect__max_df': (0.5, 0.75, 1.0),\n",
      " 'vect__ngram_range': ((1, 1), (1, 2))}\n",
      "Fitting 5 folds for each of 240 candidates, totalling 1200 fits\n"
     ]
    },
    {
     "name": "stderr",
     "output_type": "stream",
     "text": [
      "[Parallel(n_jobs=-1)]: Done  42 tasks      | elapsed:  2.3min\n",
      "[Parallel(n_jobs=-1)]: Done 192 tasks      | elapsed:  6.8min\n",
      "[Parallel(n_jobs=-1)]: Done 442 tasks      | elapsed: 14.8min\n",
      "[Parallel(n_jobs=-1)]: Done 792 tasks      | elapsed: 27.6min\n",
      "[Parallel(n_jobs=-1)]: Done 1200 out of 1200 | elapsed: 47.3min finished\n"
     ]
    },
    {
     "name": "stdout",
     "output_type": "stream",
     "text": [
      "done in 2848.986s\n",
      "\n",
      "Best score: 0.350\n",
      "Best parameters set:\n",
      "\tclass__estimator__C: 0.1\n",
      "\tclass__estimator__decision_function_shape: 'ovo'\n",
      "\tclass__estimator__kernel: 'linear'\n",
      "\tvect__max_df: 0.5\n",
      "\tvect__ngram_range: (1, 2)\n"
     ]
    }
   ],
   "source": [
    "\"\"\"parameters = {\n",
    "    'vect__max_df': (0.5, 0.75, 1.0),\n",
    "    #'vect__max_features': (None, 5000, 10000, 50000),\n",
    "    'vect__ngram_range': ((1, 1), (1, 2)),  # unigrams or bigrams\n",
    "    #'tfidf__use_idf': (True, False),\n",
    "    #'tfidf__norm': ('l1', 'l2'),\n",
    "    #'clf__estimator__C': (0.1, 1, 10, 100, 1000),\n",
    "    #'ovr__estimator__loss' : ('hinge', 'log', 'modified_huber', 'squared_hinge', 'perceptron'),\n",
    "    #'ovr__estimator__alpha': (0.00001, 0.000001),\n",
    "    #'ovr__estimator__penalty': ('l2', 'elasticnet'),\n",
    "    #'ovr__estimator__n_iter': (10, 50, 80),\n",
    "    #'classif__estimator__solver': ('newton-cg', 'sag', 'lbfgs'),\n",
    "    #'classif__estimator__C': (0.1, 1, 10, 100, 1000),\n",
    "    #'cla__estimator__penalty': ('l2', 'elasticnet'),\n",
    "    #'cla__estimator__alpha': (0.00001, 0.000001),\n",
    "    #'cla__estimator__n_iter': (10, 50, 80),\n",
    "    'class__estimator__C': (0.1, 1, 10, 100, 1000),\n",
    "    'class__estimator__kernel': ('linear', 'poly', 'rbf', 'sigmoid'),\n",
    "    'class__estimator__decision_function_shape' : ('ovo','ovr'),\n",
    "    \n",
    "}\n",
    "grid_search = GridSearchCV(classifier, parameters, n_jobs=5, verbose=1, cv=5)\n",
    "\n",
    "print(\"Performing grid search...\")\n",
    "print(\"pipeline:\", [name for name, _ in classifier.steps])\n",
    "print(\"parameters:\")\n",
    "pprint(parameters)\n",
    "t0 = time()\n",
    "grid_search.fit(X_train, Y)\n",
    "print(\"done in %0.3fs\" % (time() - t0))\n",
    "print()\n",
    "\n",
    "print(\"Best score: %0.3f\" % grid_search.best_score_)\n",
    "print(\"Best parameters set:\")\n",
    "best_parameters = grid_search.best_estimator_.get_params()\n",
    "for param_name in sorted(parameters.keys()):\n",
    "    print(\"\\t%s: %r\" % (param_name, best_parameters[param_name]))\"\"\""
   ]
  },
  {
   "cell_type": "markdown",
   "metadata": {},
   "source": [
    "### Finding Mean and Standard Test Score based of Grid Search Cross Validation"
   ]
  },
  {
   "cell_type": "code",
   "execution_count": 7,
   "metadata": {
    "collapsed": true
   },
   "outputs": [
    {
     "name": "stdout",
     "output_type": "stream",
     "text": [
      "0.271 (+/-0.283) for {'classif__estimator__C': 0.1, 'classif__estimator__solver': 'newton-cg', 'vect__max_df': 0.5, 'vect__ngram_range': (1, 1)}\n",
      "\n",
      "0.275 (+/-0.284) for {'classif__estimator__C': 0.1, 'classif__estimator__solver': 'newton-cg', 'vect__max_df': 0.5, 'vect__ngram_range': (1, 2)}\n",
      "\n",
      "0.271 (+/-0.283) for {'classif__estimator__C': 0.1, 'classif__estimator__solver': 'newton-cg', 'vect__max_df': 0.75, 'vect__ngram_range': (1, 1)}\n",
      "\n",
      "0.275 (+/-0.284) for {'classif__estimator__C': 0.1, 'classif__estimator__solver': 'newton-cg', 'vect__max_df': 0.75, 'vect__ngram_range': (1, 2)}\n",
      "\n",
      "0.271 (+/-0.283) for {'classif__estimator__C': 0.1, 'classif__estimator__solver': 'newton-cg', 'vect__max_df': 1.0, 'vect__ngram_range': (1, 1)}\n",
      "\n",
      "0.275 (+/-0.284) for {'classif__estimator__C': 0.1, 'classif__estimator__solver': 'newton-cg', 'vect__max_df': 1.0, 'vect__ngram_range': (1, 2)}\n",
      "\n",
      "0.271 (+/-0.283) for {'classif__estimator__C': 0.1, 'classif__estimator__solver': 'sag', 'vect__max_df': 0.5, 'vect__ngram_range': (1, 1)}\n",
      "\n",
      "0.275 (+/-0.284) for {'classif__estimator__C': 0.1, 'classif__estimator__solver': 'sag', 'vect__max_df': 0.5, 'vect__ngram_range': (1, 2)}\n",
      "\n",
      "0.271 (+/-0.283) for {'classif__estimator__C': 0.1, 'classif__estimator__solver': 'sag', 'vect__max_df': 0.75, 'vect__ngram_range': (1, 1)}\n",
      "\n",
      "0.275 (+/-0.284) for {'classif__estimator__C': 0.1, 'classif__estimator__solver': 'sag', 'vect__max_df': 0.75, 'vect__ngram_range': (1, 2)}\n",
      "\n",
      "0.271 (+/-0.283) for {'classif__estimator__C': 0.1, 'classif__estimator__solver': 'sag', 'vect__max_df': 1.0, 'vect__ngram_range': (1, 1)}\n",
      "\n",
      "0.275 (+/-0.284) for {'classif__estimator__C': 0.1, 'classif__estimator__solver': 'sag', 'vect__max_df': 1.0, 'vect__ngram_range': (1, 2)}\n",
      "\n",
      "0.271 (+/-0.283) for {'classif__estimator__C': 0.1, 'classif__estimator__solver': 'lbfgs', 'vect__max_df': 0.5, 'vect__ngram_range': (1, 1)}\n",
      "\n",
      "0.275 (+/-0.284) for {'classif__estimator__C': 0.1, 'classif__estimator__solver': 'lbfgs', 'vect__max_df': 0.5, 'vect__ngram_range': (1, 2)}\n",
      "\n",
      "0.271 (+/-0.283) for {'classif__estimator__C': 0.1, 'classif__estimator__solver': 'lbfgs', 'vect__max_df': 0.75, 'vect__ngram_range': (1, 1)}\n",
      "\n",
      "0.275 (+/-0.284) for {'classif__estimator__C': 0.1, 'classif__estimator__solver': 'lbfgs', 'vect__max_df': 0.75, 'vect__ngram_range': (1, 2)}\n",
      "\n",
      "0.271 (+/-0.283) for {'classif__estimator__C': 0.1, 'classif__estimator__solver': 'lbfgs', 'vect__max_df': 1.0, 'vect__ngram_range': (1, 1)}\n",
      "\n",
      "0.275 (+/-0.284) for {'classif__estimator__C': 0.1, 'classif__estimator__solver': 'lbfgs', 'vect__max_df': 1.0, 'vect__ngram_range': (1, 2)}\n",
      "\n",
      "0.271 (+/-0.161) for {'classif__estimator__C': 1, 'classif__estimator__solver': 'newton-cg', 'vect__max_df': 0.5, 'vect__ngram_range': (1, 1)}\n",
      "\n",
      "0.260 (+/-0.225) for {'classif__estimator__C': 1, 'classif__estimator__solver': 'newton-cg', 'vect__max_df': 0.5, 'vect__ngram_range': (1, 2)}\n",
      "\n",
      "0.269 (+/-0.150) for {'classif__estimator__C': 1, 'classif__estimator__solver': 'newton-cg', 'vect__max_df': 0.75, 'vect__ngram_range': (1, 1)}\n",
      "\n",
      "0.262 (+/-0.229) for {'classif__estimator__C': 1, 'classif__estimator__solver': 'newton-cg', 'vect__max_df': 0.75, 'vect__ngram_range': (1, 2)}\n",
      "\n",
      "0.262 (+/-0.181) for {'classif__estimator__C': 1, 'classif__estimator__solver': 'newton-cg', 'vect__max_df': 1.0, 'vect__ngram_range': (1, 1)}\n",
      "\n",
      "0.262 (+/-0.229) for {'classif__estimator__C': 1, 'classif__estimator__solver': 'newton-cg', 'vect__max_df': 1.0, 'vect__ngram_range': (1, 2)}\n",
      "\n",
      "0.271 (+/-0.161) for {'classif__estimator__C': 1, 'classif__estimator__solver': 'sag', 'vect__max_df': 0.5, 'vect__ngram_range': (1, 1)}\n",
      "\n",
      "0.260 (+/-0.225) for {'classif__estimator__C': 1, 'classif__estimator__solver': 'sag', 'vect__max_df': 0.5, 'vect__ngram_range': (1, 2)}\n",
      "\n",
      "0.269 (+/-0.150) for {'classif__estimator__C': 1, 'classif__estimator__solver': 'sag', 'vect__max_df': 0.75, 'vect__ngram_range': (1, 1)}\n",
      "\n",
      "0.262 (+/-0.229) for {'classif__estimator__C': 1, 'classif__estimator__solver': 'sag', 'vect__max_df': 0.75, 'vect__ngram_range': (1, 2)}\n",
      "\n",
      "0.264 (+/-0.173) for {'classif__estimator__C': 1, 'classif__estimator__solver': 'sag', 'vect__max_df': 1.0, 'vect__ngram_range': (1, 1)}\n",
      "\n",
      "0.262 (+/-0.229) for {'classif__estimator__C': 1, 'classif__estimator__solver': 'sag', 'vect__max_df': 1.0, 'vect__ngram_range': (1, 2)}\n",
      "\n",
      "0.271 (+/-0.161) for {'classif__estimator__C': 1, 'classif__estimator__solver': 'lbfgs', 'vect__max_df': 0.5, 'vect__ngram_range': (1, 1)}\n",
      "\n",
      "0.260 (+/-0.225) for {'classif__estimator__C': 1, 'classif__estimator__solver': 'lbfgs', 'vect__max_df': 0.5, 'vect__ngram_range': (1, 2)}\n",
      "\n",
      "0.269 (+/-0.150) for {'classif__estimator__C': 1, 'classif__estimator__solver': 'lbfgs', 'vect__max_df': 0.75, 'vect__ngram_range': (1, 1)}\n",
      "\n",
      "0.262 (+/-0.229) for {'classif__estimator__C': 1, 'classif__estimator__solver': 'lbfgs', 'vect__max_df': 0.75, 'vect__ngram_range': (1, 2)}\n",
      "\n",
      "0.262 (+/-0.181) for {'classif__estimator__C': 1, 'classif__estimator__solver': 'lbfgs', 'vect__max_df': 1.0, 'vect__ngram_range': (1, 1)}\n",
      "\n",
      "0.262 (+/-0.229) for {'classif__estimator__C': 1, 'classif__estimator__solver': 'lbfgs', 'vect__max_df': 1.0, 'vect__ngram_range': (1, 2)}\n",
      "\n",
      "0.301 (+/-0.054) for {'classif__estimator__C': 10, 'classif__estimator__solver': 'newton-cg', 'vect__max_df': 0.5, 'vect__ngram_range': (1, 1)}\n",
      "\n",
      "0.305 (+/-0.075) for {'classif__estimator__C': 10, 'classif__estimator__solver': 'newton-cg', 'vect__max_df': 0.5, 'vect__ngram_range': (1, 2)}\n",
      "\n",
      "0.296 (+/-0.054) for {'classif__estimator__C': 10, 'classif__estimator__solver': 'newton-cg', 'vect__max_df': 0.75, 'vect__ngram_range': (1, 1)}\n",
      "\n",
      "0.294 (+/-0.083) for {'classif__estimator__C': 10, 'classif__estimator__solver': 'newton-cg', 'vect__max_df': 0.75, 'vect__ngram_range': (1, 2)}\n",
      "\n",
      "0.294 (+/-0.054) for {'classif__estimator__C': 10, 'classif__estimator__solver': 'newton-cg', 'vect__max_df': 1.0, 'vect__ngram_range': (1, 1)}\n",
      "\n",
      "0.294 (+/-0.095) for {'classif__estimator__C': 10, 'classif__estimator__solver': 'newton-cg', 'vect__max_df': 1.0, 'vect__ngram_range': (1, 2)}\n",
      "\n",
      "0.301 (+/-0.054) for {'classif__estimator__C': 10, 'classif__estimator__solver': 'sag', 'vect__max_df': 0.5, 'vect__ngram_range': (1, 1)}\n",
      "\n",
      "0.305 (+/-0.075) for {'classif__estimator__C': 10, 'classif__estimator__solver': 'sag', 'vect__max_df': 0.5, 'vect__ngram_range': (1, 2)}\n",
      "\n",
      "0.296 (+/-0.054) for {'classif__estimator__C': 10, 'classif__estimator__solver': 'sag', 'vect__max_df': 0.75, 'vect__ngram_range': (1, 1)}\n",
      "\n",
      "0.294 (+/-0.083) for {'classif__estimator__C': 10, 'classif__estimator__solver': 'sag', 'vect__max_df': 0.75, 'vect__ngram_range': (1, 2)}\n",
      "\n",
      "0.294 (+/-0.054) for {'classif__estimator__C': 10, 'classif__estimator__solver': 'sag', 'vect__max_df': 1.0, 'vect__ngram_range': (1, 1)}\n",
      "\n",
      "0.294 (+/-0.095) for {'classif__estimator__C': 10, 'classif__estimator__solver': 'sag', 'vect__max_df': 1.0, 'vect__ngram_range': (1, 2)}\n",
      "\n",
      "0.301 (+/-0.054) for {'classif__estimator__C': 10, 'classif__estimator__solver': 'lbfgs', 'vect__max_df': 0.5, 'vect__ngram_range': (1, 1)}\n",
      "\n",
      "0.305 (+/-0.075) for {'classif__estimator__C': 10, 'classif__estimator__solver': 'lbfgs', 'vect__max_df': 0.5, 'vect__ngram_range': (1, 2)}\n",
      "\n",
      "0.296 (+/-0.054) for {'classif__estimator__C': 10, 'classif__estimator__solver': 'lbfgs', 'vect__max_df': 0.75, 'vect__ngram_range': (1, 1)}\n",
      "\n",
      "0.294 (+/-0.083) for {'classif__estimator__C': 10, 'classif__estimator__solver': 'lbfgs', 'vect__max_df': 0.75, 'vect__ngram_range': (1, 2)}\n",
      "\n",
      "0.294 (+/-0.054) for {'classif__estimator__C': 10, 'classif__estimator__solver': 'lbfgs', 'vect__max_df': 1.0, 'vect__ngram_range': (1, 1)}\n",
      "\n",
      "0.294 (+/-0.095) for {'classif__estimator__C': 10, 'classif__estimator__solver': 'lbfgs', 'vect__max_df': 1.0, 'vect__ngram_range': (1, 2)}\n",
      "\n",
      "0.322 (+/-0.068) for {'classif__estimator__C': 100, 'classif__estimator__solver': 'newton-cg', 'vect__max_df': 0.5, 'vect__ngram_range': (1, 1)}\n",
      "\n",
      "0.311 (+/-0.077) for {'classif__estimator__C': 100, 'classif__estimator__solver': 'newton-cg', 'vect__max_df': 0.5, 'vect__ngram_range': (1, 2)}\n",
      "\n",
      "0.313 (+/-0.050) for {'classif__estimator__C': 100, 'classif__estimator__solver': 'newton-cg', 'vect__max_df': 0.75, 'vect__ngram_range': (1, 1)}\n",
      "\n",
      "0.309 (+/-0.073) for {'classif__estimator__C': 100, 'classif__estimator__solver': 'newton-cg', 'vect__max_df': 0.75, 'vect__ngram_range': (1, 2)}\n",
      "\n",
      "0.311 (+/-0.069) for {'classif__estimator__C': 100, 'classif__estimator__solver': 'newton-cg', 'vect__max_df': 1.0, 'vect__ngram_range': (1, 1)}\n",
      "\n",
      "0.309 (+/-0.069) for {'classif__estimator__C': 100, 'classif__estimator__solver': 'newton-cg', 'vect__max_df': 1.0, 'vect__ngram_range': (1, 2)}\n",
      "\n",
      "0.335 (+/-0.065) for {'classif__estimator__C': 100, 'classif__estimator__solver': 'sag', 'vect__max_df': 0.5, 'vect__ngram_range': (1, 1)}\n",
      "\n",
      "0.318 (+/-0.070) for {'classif__estimator__C': 100, 'classif__estimator__solver': 'sag', 'vect__max_df': 0.5, 'vect__ngram_range': (1, 2)}\n",
      "\n",
      "0.324 (+/-0.056) for {'classif__estimator__C': 100, 'classif__estimator__solver': 'sag', 'vect__max_df': 0.75, 'vect__ngram_range': (1, 1)}\n",
      "\n",
      "0.316 (+/-0.063) for {'classif__estimator__C': 100, 'classif__estimator__solver': 'sag', 'vect__max_df': 0.75, 'vect__ngram_range': (1, 2)}\n",
      "\n",
      "0.326 (+/-0.068) for {'classif__estimator__C': 100, 'classif__estimator__solver': 'sag', 'vect__max_df': 1.0, 'vect__ngram_range': (1, 1)}\n",
      "\n",
      "0.320 (+/-0.070) for {'classif__estimator__C': 100, 'classif__estimator__solver': 'sag', 'vect__max_df': 1.0, 'vect__ngram_range': (1, 2)}\n",
      "\n",
      "0.322 (+/-0.068) for {'classif__estimator__C': 100, 'classif__estimator__solver': 'lbfgs', 'vect__max_df': 0.5, 'vect__ngram_range': (1, 1)}\n",
      "\n",
      "0.311 (+/-0.077) for {'classif__estimator__C': 100, 'classif__estimator__solver': 'lbfgs', 'vect__max_df': 0.5, 'vect__ngram_range': (1, 2)}\n",
      "\n",
      "0.313 (+/-0.050) for {'classif__estimator__C': 100, 'classif__estimator__solver': 'lbfgs', 'vect__max_df': 0.75, 'vect__ngram_range': (1, 1)}\n",
      "\n",
      "0.309 (+/-0.073) for {'classif__estimator__C': 100, 'classif__estimator__solver': 'lbfgs', 'vect__max_df': 0.75, 'vect__ngram_range': (1, 2)}\n",
      "\n",
      "0.311 (+/-0.069) for {'classif__estimator__C': 100, 'classif__estimator__solver': 'lbfgs', 'vect__max_df': 1.0, 'vect__ngram_range': (1, 1)}\n",
      "\n",
      "0.309 (+/-0.069) for {'classif__estimator__C': 100, 'classif__estimator__solver': 'lbfgs', 'vect__max_df': 1.0, 'vect__ngram_range': (1, 2)}\n",
      "\n",
      "0.328 (+/-0.075) for {'classif__estimator__C': 1000, 'classif__estimator__solver': 'newton-cg', 'vect__max_df': 0.5, 'vect__ngram_range': (1, 1)}\n",
      "\n",
      "0.322 (+/-0.068) for {'classif__estimator__C': 1000, 'classif__estimator__solver': 'newton-cg', 'vect__max_df': 0.5, 'vect__ngram_range': (1, 2)}\n",
      "\n",
      "0.324 (+/-0.071) for {'classif__estimator__C': 1000, 'classif__estimator__solver': 'newton-cg', 'vect__max_df': 0.75, 'vect__ngram_range': (1, 1)}\n",
      "\n",
      "0.316 (+/-0.063) for {'classif__estimator__C': 1000, 'classif__estimator__solver': 'newton-cg', 'vect__max_df': 0.75, 'vect__ngram_range': (1, 2)}\n",
      "\n",
      "0.316 (+/-0.081) for {'classif__estimator__C': 1000, 'classif__estimator__solver': 'newton-cg', 'vect__max_df': 1.0, 'vect__ngram_range': (1, 1)}\n",
      "\n",
      "0.313 (+/-0.063) for {'classif__estimator__C': 1000, 'classif__estimator__solver': 'newton-cg', 'vect__max_df': 1.0, 'vect__ngram_range': (1, 2)}\n",
      "\n",
      "0.352 (+/-0.053) for {'classif__estimator__C': 1000, 'classif__estimator__solver': 'sag', 'vect__max_df': 0.5, 'vect__ngram_range': (1, 1)}\n",
      "\n",
      "0.320 (+/-0.057) for {'classif__estimator__C': 1000, 'classif__estimator__solver': 'sag', 'vect__max_df': 0.5, 'vect__ngram_range': (1, 2)}\n",
      "\n",
      "0.345 (+/-0.054) for {'classif__estimator__C': 1000, 'classif__estimator__solver': 'sag', 'vect__max_df': 0.75, 'vect__ngram_range': (1, 1)}\n",
      "\n",
      "0.318 (+/-0.058) for {'classif__estimator__C': 1000, 'classif__estimator__solver': 'sag', 'vect__max_df': 0.75, 'vect__ngram_range': (1, 2)}\n",
      "\n",
      "0.354 (+/-0.077) for {'classif__estimator__C': 1000, 'classif__estimator__solver': 'sag', 'vect__max_df': 1.0, 'vect__ngram_range': (1, 1)}\n",
      "\n",
      "0.322 (+/-0.074) for {'classif__estimator__C': 1000, 'classif__estimator__solver': 'sag', 'vect__max_df': 1.0, 'vect__ngram_range': (1, 2)}\n",
      "\n",
      "0.328 (+/-0.075) for {'classif__estimator__C': 1000, 'classif__estimator__solver': 'lbfgs', 'vect__max_df': 0.5, 'vect__ngram_range': (1, 1)}\n",
      "\n",
      "0.322 (+/-0.068) for {'classif__estimator__C': 1000, 'classif__estimator__solver': 'lbfgs', 'vect__max_df': 0.5, 'vect__ngram_range': (1, 2)}\n",
      "\n",
      "0.324 (+/-0.071) for {'classif__estimator__C': 1000, 'classif__estimator__solver': 'lbfgs', 'vect__max_df': 0.75, 'vect__ngram_range': (1, 1)}\n",
      "\n",
      "0.316 (+/-0.063) for {'classif__estimator__C': 1000, 'classif__estimator__solver': 'lbfgs', 'vect__max_df': 0.75, 'vect__ngram_range': (1, 2)}\n",
      "\n",
      "0.316 (+/-0.081) for {'classif__estimator__C': 1000, 'classif__estimator__solver': 'lbfgs', 'vect__max_df': 1.0, 'vect__ngram_range': (1, 1)}\n",
      "\n",
      "0.313 (+/-0.063) for {'classif__estimator__C': 1000, 'classif__estimator__solver': 'lbfgs', 'vect__max_df': 1.0, 'vect__ngram_range': (1, 2)}\n",
      "\n"
     ]
    }
   ],
   "source": [
    "\"\"\"means = grid_search.cv_results_['mean_test_score']\n",
    "stds = grid_search.cv_results_['std_test_score']\n",
    "for mean, std, params in zip(means, stds, grid_search.cv_results_['params']):\n",
    "    print(\"%0.3f (+/-%0.03f) for %r\"\n",
    "          % (mean, std * 2, params))\n",
    "    print()\"\"\""
   ]
  },
  {
   "cell_type": "markdown",
   "metadata": {},
   "source": [
    "### Testing the results and calculating accuracy, precision, recall, f1-score and support"
   ]
  },
  {
   "cell_type": "code",
   "execution_count": 13,
   "metadata": {},
   "outputs": [
    {
     "name": "stdout",
     "output_type": "stream",
     "text": [
      "accuracy : 0.684410646388\n",
      "micro f-measure 0.806491885144\n"
     ]
    }
   ],
   "source": [
    "#Testing on the whole test set\n",
    "y_score = classifier.fit(X_train, Y).decision_function(X_test)\n",
    "#print (\"y_score\" + str(y_score))\n",
    "\n",
    "predicted = classifier.predict(X_test)\n",
    "all_labels = lb.inverse_transform(predicted)\n",
    "\n",
    "#print accuracy_score\n",
    "print (\"accuracy : \"+str(accuracy_score(Y_test, predicted)))\n",
    "print (\"micro f-measure \"+str(f1_score(Y_test, predicted, average='micro')))\n",
    " \n",
    "#for item, labels,real in zip(X_test, all_labels,y_test):\n",
    "#    print ('%s => %s => %s' % (item, ', '.join(labels),real))"
   ]
  },
  {
   "cell_type": "markdown",
   "metadata": {},
   "source": [
    "### Getting the Classification Report"
   ]
  },
  {
   "cell_type": "code",
   "execution_count": 14,
   "metadata": {
    "scrolled": true
   },
   "outputs": [
    {
     "name": "stdout",
     "output_type": "stream",
     "text": [
      "                 precision    recall  f1-score   support\n",
      "\n",
      "        alcohol       0.97      0.57      0.71        53\n",
      "          bleed       1.00      0.52      0.69        42\n",
      "carbon monoxide       0.00      0.00      0.00         0\n",
      "            cut       0.94      0.59      0.72        51\n",
      "        disease       1.00      0.39      0.56        23\n",
      "          drown       0.00      0.00      0.00         7\n",
      "           drug       0.89      0.95      0.92       154\n",
      "    electrocute       0.00      0.00      0.00         0\n",
      "            gun       1.00      0.60      0.75        15\n",
      "           hang       0.86      0.79      0.82        71\n",
      "           jump       0.94      0.81      0.87        21\n",
      "         starve       1.00      0.50      0.67         2\n",
      "      suffocate       1.00      1.00      1.00         1\n",
      "        vehicle       1.00      0.29      0.44         7\n",
      "\n",
      "    avg / total       0.91      0.72      0.79       447\n",
      "\n"
     ]
    },
    {
     "name": "stderr",
     "output_type": "stream",
     "text": [
      "C:\\Users\\AshwinAmbal\\Anaconda3\\envs\\intern\\lib\\site-packages\\sklearn\\metrics\\classification.py:1113: UndefinedMetricWarning: Precision and F-score are ill-defined and being set to 0.0 in labels with no predicted samples.\n",
      "  'precision', 'predicted', average, warn_for)\n",
      "C:\\Users\\AshwinAmbal\\Anaconda3\\envs\\intern\\lib\\site-packages\\sklearn\\metrics\\classification.py:1115: UndefinedMetricWarning: Recall and F-score are ill-defined and being set to 0.0 in labels with no true samples.\n",
      "  'recall', 'true', average, warn_for)\n"
     ]
    }
   ],
   "source": [
    "print(classification_report(Y_test, predicted, target_names= list(lb.classes_)))"
   ]
  },
  {
   "cell_type": "markdown",
   "metadata": {},
   "source": [
    "## Note: We have 5 labels which occurred only once in the dataset but we decided to keep them in the training dataset and couldn't stratify it"
   ]
  },
  {
   "cell_type": "markdown",
   "metadata": {},
   "source": [
    "### Computing Micro Precision and Recall"
   ]
  },
  {
   "cell_type": "code",
   "execution_count": 15,
   "metadata": {},
   "outputs": [
    {
     "name": "stdout",
     "output_type": "stream",
     "text": [
      "Average precision: 0.919955659696\n"
     ]
    }
   ],
   "source": [
    "precision_micro, recall_micro, _ = precision_recall_curve(Y_test.ravel(),y_score.ravel())\n",
    "average_precision_micro = average_precision_score(Y_test, y_score,average=\"micro\")\n",
    "\n",
    "#print (\"\\nPrecision: \"+str(precision_micro)+\"\\nRecall: \"+str(recall_micro)+\"\\n\n",
    "print(\"Average precision: \"+str(average_precision_micro))"
   ]
  },
  {
   "cell_type": "markdown",
   "metadata": {},
   "source": [
    "## Plotting Precision-Recall Curve"
   ]
  },
  {
   "cell_type": "code",
   "execution_count": 17,
   "metadata": {},
   "outputs": [
    {
     "name": "stderr",
     "output_type": "stream",
     "text": [
      "C:\\Users\\AshwinAmbal\\Anaconda3\\envs\\intern\\lib\\site-packages\\sklearn\\metrics\\ranking.py:415: RuntimeWarning: invalid value encountered in true_divide\n",
      "  recall = tps / tps[-1]\n",
      "C:\\Users\\AshwinAmbal\\Anaconda3\\envs\\intern\\lib\\site-packages\\sklearn\\metrics\\ranking.py:96: RuntimeWarning: invalid value encountered in less\n",
      "  if np.any(dx < 0):\n"
     ]
    }
   ],
   "source": [
    "# Compute Precision-Recall and plot curve\n",
    "n_classes = Y.shape[1]\n",
    "precision = dict()\n",
    "recall = dict()\n",
    "average_precision = dict()\n",
    "for i in range(n_classes):\n",
    "    precision[i], recall[i], _ = precision_recall_curve(Y_test[:, i],y_score[:, i])\n",
    "    average_precision[i] = average_precision_score(Y_test[:, i], y_score[:, i])"
   ]
  },
  {
   "cell_type": "markdown",
   "metadata": {},
   "source": [
    "### Precision Recall Curve for Each Class"
   ]
  },
  {
   "cell_type": "code",
   "execution_count": 25,
   "metadata": {},
   "outputs": [
    {
     "data": {
      "image/png": "[encoded data removed]",
      "text/plain": [
       "<matplotlib.figure.Figure at 0xe102ca6048>"
      ]
     },
     "metadata": {},
     "output_type": "display_data"
    }
   ],
   "source": [
    "# Plot Precision-Recall curve for each class\n",
    "plt.clf()\n",
    "plt.plot(recall_micro, precision_micro,\n",
    "         label='Micro-average Prec-Rec curve (area = {0:0.2f})'\n",
    "               ''.format(average_precision_micro))\n",
    "for i, name in zip(range(n_classes),list(lb.classes_)):\n",
    "    plt.plot(recall[i], precision[i],\n",
    "             label='Prec-Rec class {0} (area = {1:0.2f})'\n",
    "                   ''.format(name, average_precision[i]))\n",
    "plt.xlim([0.0, 1.0])\n",
    "plt.ylim([0.0, 1.05])\n",
    "plt.xlabel('Recall')\n",
    "plt.ylabel('Precision')\n",
    "plt.title('Extension of Precision-Recall curve to multi-class')\n",
    "plt.legend(bbox_to_anchor=(1.05, 1), prop={'size':9}, loc=2, borderaxespad=0.)\n",
    "#plt.savefig('C:/Users/AshwinAmbal/Desktop/New Folder/Mass.png',dpi=200, bbox_inches='tight')\n",
    "plt.show()"
   ]
  }
 ],
 "metadata": {
  "kernelspec": {
   "display_name": "Python 3",
   "language": "python",
   "name": "python3"
  },
  "language_info": {
   "codemirror_mode": {
    "name": "ipython",
    "version": 3
   },
   "file_extension": ".py",
   "mimetype": "text/x-python",
   "name": "python",
   "nbconvert_exporter": "python",
   "pygments_lexer": "ipython3",
   "version": "3.5.3"
  }
 },
 "nbformat": 4,
 "nbformat_minor": 2
}
